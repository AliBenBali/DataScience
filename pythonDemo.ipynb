{
 "cells": [
  {
   "cell_type": "code",
   "execution_count": null,
   "metadata": {},
   "outputs": [],
   "source": [
    "3**4"
   ]
  },
  {
   "cell_type": "code",
   "execution_count": null,
   "metadata": {},
   "outputs": [],
   "source": [
    "1 + (5*12) / 3- 12"
   ]
  },
  {
   "cell_type": "code",
   "execution_count": null,
   "metadata": {},
   "outputs": [],
   "source": [
    "z1 =3\n",
    "z2=4\n",
    "wort = \"word\";"
   ]
  },
  {
   "cell_type": "code",
   "execution_count": null,
   "metadata": {},
   "outputs": [],
   "source": [
    "type(z1)"
   ]
  },
  {
   "cell_type": "code",
   "execution_count": null,
   "metadata": {},
   "outputs": [],
   "source": [
    "#liste\n",
    "liste = [1,2,2,3]\n",
    "#Dictionary\n",
    "dic = {\"a\":1, \"b\": 2}"
   ]
  },
  {
   "cell_type": "code",
   "execution_count": null,
   "metadata": {},
   "outputs": [],
   "source": [
    "k = 10000\n",
    "z = 0.035\n",
    "zE = k * z\n",
    "eG = k * (z+1)\n",
    "print(zE, \" - \",  eG)"
   ]
  },
  {
   "cell_type": "code",
   "execution_count": null,
   "metadata": {},
   "outputs": [],
   "source": [
    "v = \"max\"\n",
    "n = \"Mustermann\"\n",
    "anrede = \"Bruh \" + v + \" \" + n\n",
    "anrede"
   ]
  },
  {
   "cell_type": "code",
   "execution_count": null,
   "metadata": {},
   "outputs": [],
   "source": [
    "import statistics\n",
    "\n",
    "avg = statistics.mean(liste)\n",
    "avg"
   ]
  },
  {
   "cell_type": "code",
   "execution_count": null,
   "metadata": {},
   "outputs": [],
   "source": [
    "from statistics import mean\n",
    "\n",
    "avg = mean(liste)\n",
    "avg"
   ]
  },
  {
   "cell_type": "code",
   "execution_count": null,
   "metadata": {},
   "outputs": [],
   "source": [
    "import statistics as stat\n",
    "\n",
    "avg = stat.mean(liste)\n",
    "avg"
   ]
  },
  {
   "cell_type": "code",
   "execution_count": 2,
   "metadata": {},
   "outputs": [
    {
     "data": {
      "text/plain": [
       "<bound method NDFrame.head of   Produkt  Preis  Menge        Datum\n",
       "0   Apple   0.79     10   2022-01-01\n",
       "1  Orange   1.99      1   2022-01-02\n",
       "2  Orange   1.99      5   2022-01-03\n",
       "3  Banana   0.79      1   2022-01-04\n",
       "4   Apple   0.79      7   2022-01-05\n",
       "5  Orange   1.99      2   2022-01-06\n",
       "6  Banana   0.79      9   2022-01-07\n",
       "7   Apple   1.99      4   2022-01-08\n",
       "8   Apple   2.49      8   2022-01-09\n",
       "9  Orange   2.49      7  2022-01-010>"
      ]
     },
     "execution_count": 2,
     "metadata": {},
     "output_type": "execute_result"
    }
   ],
   "source": [
    "import pandas \n",
    "\n",
    "# Einlesen der Daten (hier: csv-Datei)\n",
    "df = pandas.read_excel(\"CsvData/sales.xlsx\")\n",
    "\n",
    "\n",
    "# Ausgabe der ersten fünf Zeilen der Tabelle\n",
    "df.head\n",
    "\n",
    "print(df.columns)"
   ]
  },
  {
   "cell_type": "code",
   "execution_count": 6,
   "metadata": {},
   "outputs": [
    {
     "name": "stdout",
     "output_type": "stream",
     "text": [
      "10   4\n"
     ]
    }
   ],
   "source": [
    "\n",
    "count_row = df.shape[0]  # Gives number of rows\n",
    "count_col = df.shape[1]  # Gives number of columns\n",
    "r, c = df.shape\n",
    "print(r,\" \",c)"
   ]
  }
 ],
 "metadata": {
  "kernelspec": {
   "display_name": "Python 3",
   "language": "python",
   "name": "python3"
  },
  "language_info": {
   "codemirror_mode": {
    "name": "ipython",
    "version": 3
   },
   "file_extension": ".py",
   "mimetype": "text/x-python",
   "name": "python",
   "nbconvert_exporter": "python",
   "pygments_lexer": "ipython3",
   "version": "3.10.4"
  }
 },
 "nbformat": 4,
 "nbformat_minor": 2
}
