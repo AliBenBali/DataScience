{
 "cells": [
  {
   "cell_type": "markdown",
   "metadata": {},
   "source": [
    "## Fallstudie Fashion Avenue        "
   ]
  },
  {
   "cell_type": "code",
   "execution_count": null,
   "metadata": {},
   "outputs": [],
   "source": [
    "# Importieren der Bibliothek pandas\n",
    "import pandas as pd \n",
    "\n",
    "# Einlesen der Daten (hier: csv-Datei)\n",
    "df = pd.read_csv(\"../../_data/transactions_fashion_avenue.csv\")\n",
    "\n",
    "# Ausgabe der ersten fünf Zeilen der Tabelle\n",
    "df.head()"
   ]
  }
 ],
 "metadata": {
  "kernelspec": {
   "display_name": "Python 3",
   "language": "python",
   "name": "python3"
  },
  "language_info": {
   "name": "python",
   "version": "3.10.4"
  },
  "orig_nbformat": 4
 },
 "nbformat": 4,
 "nbformat_minor": 2
}
