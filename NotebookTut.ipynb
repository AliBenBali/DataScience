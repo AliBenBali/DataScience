{
 "cells": [
  {
   "cell_type": "markdown",
   "metadata": {},
   "source": [
    "Das hier ist ein Jupyter Notebook"
   ]
  },
  {
   "cell_type": "code",
   "execution_count": 1,
   "metadata": {},
   "outputs": [
    {
     "name": "stdout",
     "output_type": "stream",
     "text": [
      "Hello World\n"
     ]
    }
   ],
   "source": [
    "print(\"Hello World\")"
   ]
  },
  {
   "cell_type": "markdown",
   "metadata": {},
   "source": [
    "### Eine Überschrift der Ebene 3\n",
    "\n",
    "Dies ist ein Absatz, der __fette__ und _kursive_ Schrift enthält. Außerdem ein [Link](https://www.google.com) und ein Bild:\n",
    "\n",
    "![Bild](https://upload.wikimedia.org/wikipedia/commons/thumb/3/38/Jupyter_logo.svg/100px-Jupyter_logo.svg.png)\n",
    "\n",
    "Eine Tabelle:\n",
    "\n",
    "| Spalte 1 | Spalte 2 |\n",
    "|----------|----------|\n",
    "| 1        | 2        |\n",
    "| 3        | 4        |\n",
    "\n",
    "Eine Formel:\n",
    "\n",
    "$$\n",
    "\\int_0^1 x^2 \\, dx = \\frac{1}{3}\n",
    "$$\n",
    "\n",
    "Eine Liste:\n",
    "\n",
    "- Punkt 1\n",
    "- Punkt 2"
   ]
  },
  {
   "cell_type": "markdown",
   "metadata": {},
   "source": [
    "Python ist Dynamisch Typisiert.\n",
    "Unten sind Beispiele für common Datentypen"
   ]
  },
  {
   "cell_type": "code",
   "execution_count": null,
   "metadata": {},
   "outputs": [],
   "source": [
    "1 + (5 * 12) / 3 - 12"
   ]
  },
  {
   "cell_type": "code",
   "execution_count": null,
   "metadata": {},
   "outputs": [],
   "source": [
    "zahl1 = 42\n",
    "zahl2 = 3.2\n",
    "satz = \"Deutscher Meister wird nur der BVB\""
   ]
  },
  {
   "cell_type": "code",
   "execution_count": null,
   "metadata": {},
   "outputs": [],
   "source": [
    "liste_zahlen = [1, 2, 3, 4, 5]\n",
    "anzahl_elemente = 5"
   ]
  },
  {
   "cell_type": "code",
   "execution_count": null,
   "metadata": {},
   "outputs": [],
   "source": [
    "cash_flow = 100\n",
    "zinssatz = 0.05\n",
    "kapitalwert = cash_flow / (1 + zinssatz)\n",
    "kapitalwert"
   ]
  },
  {
   "cell_type": "markdown",
   "metadata": {},
   "source": [
    "Um den Datentypen festzustellen"
   ]
  },
  {
   "cell_type": "code",
   "execution_count": null,
   "metadata": {},
   "outputs": [],
   "source": [
    "type(zahl1)"
   ]
  },
  {
   "cell_type": "code",
   "execution_count": null,
   "metadata": {},
   "outputs": [],
   "source": [
    "zahl1 = 0.12\n",
    "type(zahl1)"
   ]
  },
  {
   "cell_type": "code",
   "execution_count": null,
   "metadata": {},
   "outputs": [],
   "source": [
    "zahl1 = 2\n",
    "zahl2 = 3\n",
    "zahl1 + zahl2"
   ]
  },
  {
   "cell_type": "code",
   "execution_count": null,
   "metadata": {},
   "outputs": [],
   "source": [
    "text1 = \"12\"\n",
    "text2 = \"3\"\n",
    "text1 + text2"
   ]
  },
  {
   "cell_type": "code",
   "execution_count": null,
   "metadata": {},
   "outputs": [],
   "source": [
    "vorname = \"Max\"\n",
    "nachname = \"Mustermann\"\n",
    "anrede = \"Lieber Herr \" + vorname + \" \" + nachname\n",
    "anrede"
   ]
  },
  {
   "cell_type": "code",
   "execution_count": null,
   "metadata": {},
   "outputs": [],
   "source": [
    "help(str) # Hilfe für den Datentyp str"
   ]
  },
  {
   "cell_type": "code",
   "execution_count": null,
   "metadata": {},
   "outputs": [],
   "source": [
    "dir(str) # Fähigkeiten für den Datentyp str"
   ]
  },
  {
   "cell_type": "markdown",
   "metadata": {},
   "source": [
    "Das hier ist nur ein Beispiel um ein Bib zu installieren\n",
    "\n",
    "\n",
    "\n",
    "```[python](https://saturncloud.io/glossary/python)\n",
    "import sys\n",
    "!{sys.executable} -m pip install <modulname>"
   ]
  },
  {
   "cell_type": "markdown",
   "metadata": {},
   "source": [
    "Import des gesamten Moduls"
   ]
  },
  {
   "cell_type": "code",
   "execution_count": 3,
   "metadata": {},
   "outputs": [
    {
     "data": {
      "text/plain": [
       "5.5"
      ]
     },
     "execution_count": 3,
     "metadata": {},
     "output_type": "execute_result"
    }
   ],
   "source": [
    "import statistics\n",
    "\n",
    "\n",
    "daten = [1, 2, 3, 4, 5, 6, 7, 8, 9, 10]\n",
    "avg = statistics.mean(daten)\n",
    "avg"
   ]
  },
  {
   "cell_type": "markdown",
   "metadata": {},
   "source": [
    "Import von Funktion aus einem Modul"
   ]
  },
  {
   "cell_type": "code",
   "execution_count": 4,
   "metadata": {},
   "outputs": [
    {
     "data": {
      "text/plain": [
       "5.5"
      ]
     },
     "execution_count": 4,
     "metadata": {},
     "output_type": "execute_result"
    }
   ],
   "source": [
    "from statistics import mean\n",
    "\n",
    "\n",
    "daten = [1, 2, 3, 4, 5, 6, 7, 8, 9, 10]\n",
    "avg = mean(daten)\n",
    "avg"
   ]
  },
  {
   "cell_type": "markdown",
   "metadata": {},
   "source": [
    "Importieren des gesamten Moduls unter einem anderen Namen"
   ]
  },
  {
   "cell_type": "code",
   "execution_count": 5,
   "metadata": {},
   "outputs": [
    {
     "data": {
      "text/plain": [
       "5.5"
      ]
     },
     "execution_count": 5,
     "metadata": {},
     "output_type": "execute_result"
    }
   ],
   "source": [
    "import statistics as stat\n",
    "\n",
    "\n",
    "daten = [1, 2, 3, 4, 5, 6, 7, 8, 9, 10]\n",
    "avg = stat.mean(daten)\n",
    "avg"
   ]
  }
 ],
 "metadata": {
  "kernelspec": {
   "display_name": "Python 3",
   "language": "python",
   "name": "python3"
  },
  "language_info": {
   "codemirror_mode": {
    "name": "ipython",
    "version": 3
   },
   "file_extension": ".py",
   "mimetype": "text/x-python",
   "name": "python",
   "nbconvert_exporter": "python",
   "pygments_lexer": "ipython3",
   "version": "3.10.4"
  },
  "orig_nbformat": 4
 },
 "nbformat": 4,
 "nbformat_minor": 2
}
