{
 "cells": [
  {
   "cell_type": "markdown",
   "metadata": {},
   "source": [
    "Explain IF, If-Else, Elif, Nested If with examples."
   ]
  },
  {
   "cell_type": "code",
   "execution_count": null,
   "metadata": {},
   "outputs": [],
   "source": [
    "zahl = 1\n",
    "if zahl == 1:\n",
    "    print(\"Zahl ist 1\")\n",
    "elif zahl == 2:\n",
    "    print(\"Zahl ist 2\")\n",
    "else:\n",
    "    print(\"Zahl ist weder 1 noch 2\")"
   ]
  },
  {
   "cell_type": "code",
   "execution_count": 1,
   "metadata": {},
   "outputs": [
    {
     "name": "stdout",
     "output_type": "stream",
     "text": [
      "Verlust\n"
     ]
    }
   ],
   "source": [
    "einnahmen = 50_000\n",
    "ausgaben = 55_000\n",
    "if einnahmen > ausgaben:\n",
    "    print(\"Gewinn\")\n",
    "elif einnahmen == ausgaben:\n",
    "    print(\"Null\")\n",
    "else:\n",
    "    print(\"Verlust\")"
   ]
  },
  {
   "cell_type": "code",
   "execution_count": null,
   "metadata": {},
   "outputs": [],
   "source": [
    "#Gib code beispiele für Vergleichsoperatoren\n",
    "# ==, !=, <, >, <=, >=\n",
    "#Gib code beispiele für Prüfung auf Mitgliedschaft\n",
    "# in, not in\n",
    "#Gib code beispiele für logische Operatoren\n",
    "# and, or, not\n",
    "#Gib code beispiele für Prüfung auf Identität\n",
    "# is, is not"
   ]
  },
  {
   "cell_type": "code",
   "execution_count": 2,
   "metadata": {},
   "outputs": [
    {
     "name": "stdout",
     "output_type": "stream",
     "text": [
      "42000.0\n"
     ]
    }
   ],
   "source": [
    "def berechne_steuern(jahreseinkommen):\n",
    "    if jahreseinkommen <= 14_000:\n",
    "        steuersatz = 0.12\n",
    "    elif jahreseinkommen <= 55_000:\n",
    "        steuersatz = 0.24\n",
    "    elif jahreseinkommen <= 200_000:\n",
    "        steuersatz = 0.42\n",
    "    else:\n",
    "        steuersatz = 0.45\n",
    "    return steuersatz * jahreseinkommen\n",
    "\n",
    "print(berechne_steuern(100_000))\n"
   ]
  },
  {
   "cell_type": "code",
   "execution_count": 9,
   "metadata": {},
   "outputs": [
    {
     "name": "stdout",
     "output_type": "stream",
     "text": [
      "Gold\n",
      "Gold\n",
      "Ungültige Eingabe! Bitte geben Sie gültige Werte für Umsatz und Transaktionsanzahl ein.\n"
     ]
    }
   ],
   "source": [
    "def bestimme_kundenbindung(umsatz,transaktionen):\n",
    "    if not (isinstance(umsatz, (int, float)) and umsatz >= 0 and\n",
    "            isinstance(transaktionen, int) and transaktionen >= 1):\n",
    "        return \"Ungültige Eingabe! Bitte geben Sie gültige Werte für Umsatz und Transaktionsanzahl ein.\"\n",
    "\n",
    "    if umsatz <= 1000 and transaktionen < 10:\n",
    "        return \"Bronze\"\n",
    "    elif (umsatz >= 1001 and umsatz <= 5000) or (transaktionen >= 10 and transaktionen <= 29):\n",
    "        return \"Silber\"\n",
    "    elif (umsatz >= 5001 and umsatz <= 10000) or (transaktionen >= 30 and transaktionen <= 59):\n",
    "        return \"Gold\"\n",
    "    else:\n",
    "        return \"Platin\"\n",
    "\n",
    "print(bestimme_kundenbindung(7000, 40))\n",
    "print(bestimme_kundenbindung(7000, 3))\n",
    "print(bestimme_kundenbindung(-100, 40))\n",
    "        "
   ]
  }
 ],
 "metadata": {
  "kernelspec": {
   "display_name": "Python 3",
   "language": "python",
   "name": "python3"
  },
  "language_info": {
   "codemirror_mode": {
    "name": "ipython",
    "version": 3
   },
   "file_extension": ".py",
   "mimetype": "text/x-python",
   "name": "python",
   "nbconvert_exporter": "python",
   "pygments_lexer": "ipython3",
   "version": "3.10.4"
  }
 },
 "nbformat": 4,
 "nbformat_minor": 2
}
